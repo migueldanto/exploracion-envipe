{
 "cells": [
  {
   "cell_type": "markdown",
   "metadata": {},
   "source": [
    "## Codigos de incidencias\n"
   ]
  },
  {
   "cell_type": "markdown",
   "metadata": {},
   "source": [
    "01-grupo a- Robo total\n",
    "de vehículo\n",
    "(automóvil,\n",
    "camioneta o\n",
    "camión)"
   ]
  },
  {
   "cell_type": "code",
   "execution_count": 2,
   "metadata": {},
   "outputs": [
    {
     "data": {
      "text/html": [
       "<div>\n",
       "<style scoped>\n",
       "    .dataframe tbody tr th:only-of-type {\n",
       "        vertical-align: middle;\n",
       "    }\n",
       "\n",
       "    .dataframe tbody tr th {\n",
       "        vertical-align: top;\n",
       "    }\n",
       "\n",
       "    .dataframe thead th {\n",
       "        text-align: right;\n",
       "    }\n",
       "</style>\n",
       "<table border=\"1\" class=\"dataframe\">\n",
       "  <thead>\n",
       "    <tr style=\"text-align: right;\">\n",
       "      <th></th>\n",
       "      <th>codigo</th>\n",
       "      <th>grupo</th>\n",
       "      <th>delito</th>\n",
       "    </tr>\n",
       "  </thead>\n",
       "  <tbody>\n",
       "    <tr>\n",
       "      <th>0</th>\n",
       "      <td>01</td>\n",
       "      <td>a</td>\n",
       "      <td>Robo total de vehículo (automóvil, camioneta o...</td>\n",
       "    </tr>\n",
       "  </tbody>\n",
       "</table>\n",
       "</div>"
      ],
      "text/plain": [
       "  codigo grupo                                             delito\n",
       "0     01     a  Robo total de vehículo (automóvil, camioneta o..."
      ]
     },
     "execution_count": 2,
     "metadata": {},
     "output_type": "execute_result"
    }
   ],
   "source": [
    "import pandas as pd\n",
    "df1=pd.DataFrame({\"codigo\":[\"01\"],\"grupo\":[\"a\"],\"delito\":[\"Robo total de vehículo (automóvil, camioneta o camión)\"]})\n",
    "df1"
   ]
  },
  {
   "cell_type": "markdown",
   "metadata": {},
   "source": [
    "**AP6_4_01** \n",
    "- 6.4 Durante 2017, ¿algún integrante de este hogar incluido usted, sufrieron la situación (CÓDIGO DE LA INCIDENCIA) del grupo A?\n",
    "- Robo total\n",
    "de vehículo\n",
    "(automóvil,\n",
    "camioneta o\n",
    "camión)\n",
    "\n",
    "**AP6_6_01**\n",
    "- 6.6 ¿Cuántas veces sufrió usted o algún integrante del hogar (CÓDIGO DE LA INCIDENCIA) durante 2017?\n",
    "- Robo total\n",
    "de vehículo\n",
    "(automóvil,\n",
    "camioneta o\n",
    "camión)"
   ]
  },
  {
   "cell_type": "markdown",
   "metadata": {},
   "source": [
    "---\n",
    "02-grupo a - Robo de\n",
    "accesorios,\n",
    "refacciones o\n",
    "herramientas\n",
    "de vehículos\n",
    "(automóvil,\n",
    "camioneta,\n",
    "camión)"
   ]
  },
  {
   "cell_type": "code",
   "execution_count": 4,
   "metadata": {},
   "outputs": [
    {
     "data": {
      "text/html": [
       "<div>\n",
       "<style scoped>\n",
       "    .dataframe tbody tr th:only-of-type {\n",
       "        vertical-align: middle;\n",
       "    }\n",
       "\n",
       "    .dataframe tbody tr th {\n",
       "        vertical-align: top;\n",
       "    }\n",
       "\n",
       "    .dataframe thead th {\n",
       "        text-align: right;\n",
       "    }\n",
       "</style>\n",
       "<table border=\"1\" class=\"dataframe\">\n",
       "  <thead>\n",
       "    <tr style=\"text-align: right;\">\n",
       "      <th></th>\n",
       "      <th>codigo</th>\n",
       "      <th>grupo</th>\n",
       "      <th>delito</th>\n",
       "    </tr>\n",
       "  </thead>\n",
       "  <tbody>\n",
       "    <tr>\n",
       "      <th>0</th>\n",
       "      <td>01</td>\n",
       "      <td>a</td>\n",
       "      <td>Robo total de vehículo (automóvil, camioneta o...</td>\n",
       "    </tr>\n",
       "    <tr>\n",
       "      <th>1</th>\n",
       "      <td>02</td>\n",
       "      <td>a</td>\n",
       "      <td>Robo de accesorios, refacciones o herramientas...</td>\n",
       "    </tr>\n",
       "  </tbody>\n",
       "</table>\n",
       "</div>"
      ],
      "text/plain": [
       "  codigo grupo                                             delito\n",
       "0     01     a  Robo total de vehículo (automóvil, camioneta o...\n",
       "1     02     a  Robo de accesorios, refacciones o herramientas..."
      ]
     },
     "execution_count": 4,
     "metadata": {},
     "output_type": "execute_result"
    }
   ],
   "source": [
    "df1=df1.append({\"codigo\":\"02\",\"grupo\":\"a\",\n",
    "            \"delito\":\"Robo de accesorios, refacciones o herramientas de vehículos (automóvil, camioneta, camión)\"},\n",
    "          ignore_index=True)\n",
    "df1"
   ]
  },
  {
   "cell_type": "markdown",
   "metadata": {},
   "source": [
    "**AP6_4_02** \n",
    "- 6.4 Durante 2017, ¿algún integrante de este hogar incluido usted, sufrieron la situación (CÓDIGO DE LA INCIDENCIA) del grupo A?\n",
    "- Robo de accesorios, refacciones o herramientas de vehículos (automóvil, camioneta, camión)\n",
    "\n",
    "**AP6_6_02**\n",
    "- 6.6 ¿Cuántas veces sufrió usted o algún integrante del hogar (CÓDIGO DE LA INCIDENCIA) durante 2017?\n",
    "- Robo de accesorios, refacciones o herramientas de vehículos (automóvil, camioneta, camión)"
   ]
  },
  {
   "cell_type": "markdown",
   "metadata": {},
   "source": [
    "---\n",
    "03 - grupo a - Pinta de barda o\n",
    "grafiti en su casa,\n",
    "rayones o daños\n",
    "intencionales en\n",
    "su vehículo u otro\n",
    "tipo de vandalismo"
   ]
  },
  {
   "cell_type": "code",
   "execution_count": 5,
   "metadata": {},
   "outputs": [
    {
     "data": {
      "text/html": [
       "<div>\n",
       "<style scoped>\n",
       "    .dataframe tbody tr th:only-of-type {\n",
       "        vertical-align: middle;\n",
       "    }\n",
       "\n",
       "    .dataframe tbody tr th {\n",
       "        vertical-align: top;\n",
       "    }\n",
       "\n",
       "    .dataframe thead th {\n",
       "        text-align: right;\n",
       "    }\n",
       "</style>\n",
       "<table border=\"1\" class=\"dataframe\">\n",
       "  <thead>\n",
       "    <tr style=\"text-align: right;\">\n",
       "      <th></th>\n",
       "      <th>codigo</th>\n",
       "      <th>grupo</th>\n",
       "      <th>delito</th>\n",
       "    </tr>\n",
       "  </thead>\n",
       "  <tbody>\n",
       "    <tr>\n",
       "      <th>0</th>\n",
       "      <td>01</td>\n",
       "      <td>a</td>\n",
       "      <td>Robo total de vehículo (automóvil, camioneta o...</td>\n",
       "    </tr>\n",
       "    <tr>\n",
       "      <th>1</th>\n",
       "      <td>02</td>\n",
       "      <td>a</td>\n",
       "      <td>Robo de accesorios, refacciones o herramientas...</td>\n",
       "    </tr>\n",
       "    <tr>\n",
       "      <th>2</th>\n",
       "      <td>03</td>\n",
       "      <td>a</td>\n",
       "      <td>Pinta de barda o grafiti en su casa, rayones o...</td>\n",
       "    </tr>\n",
       "  </tbody>\n",
       "</table>\n",
       "</div>"
      ],
      "text/plain": [
       "  codigo grupo                                             delito\n",
       "0     01     a  Robo total de vehículo (automóvil, camioneta o...\n",
       "1     02     a  Robo de accesorios, refacciones o herramientas...\n",
       "2     03     a  Pinta de barda o grafiti en su casa, rayones o..."
      ]
     },
     "execution_count": 5,
     "metadata": {},
     "output_type": "execute_result"
    }
   ],
   "source": [
    "df1=df1.append({\"codigo\":\"03\",\"grupo\":\"a\",\n",
    "            \"delito\":\"Pinta de barda o grafiti en su casa, rayones o daños intencionales en su vehículo u otro tipo de vandalismo\"},\n",
    "          ignore_index=True)\n",
    "df1"
   ]
  },
  {
   "cell_type": "markdown",
   "metadata": {},
   "source": [
    "**AP6_4_03** \n",
    "- 6.4 Durante 2017, ¿algún integrante de este hogar incluido usted, sufrieron la situación (CÓDIGO DE LA INCIDENCIA) del grupo A?\n",
    "- Pinta de barda o grafiti en su casa, rayones o daños intencionales en su vehículo u otro tipo de vandalismo\n",
    "\n",
    "**AP6_6_03**\n",
    "- 6.6 ¿Cuántas veces sufrió usted o algún integrante del hogar (CÓDIGO DE LA INCIDENCIA) durante 2017?\n",
    "- Pinta de barda o grafiti en su casa, rayones o daños intencionales en su vehículo u otro tipo de vandalismo"
   ]
  },
  {
   "cell_type": "markdown",
   "metadata": {},
   "source": [
    "---\n",
    "04 - grupo a - Alguien entró\n",
    "a su casa o\n",
    "departamento sin\n",
    "permiso mediante\n",
    "el uso de la fuerza\n",
    "o por engaños\n",
    "y robó o intentó\n",
    "robar algo"
   ]
  },
  {
   "cell_type": "code",
   "execution_count": 6,
   "metadata": {},
   "outputs": [
    {
     "data": {
      "text/html": [
       "<div>\n",
       "<style scoped>\n",
       "    .dataframe tbody tr th:only-of-type {\n",
       "        vertical-align: middle;\n",
       "    }\n",
       "\n",
       "    .dataframe tbody tr th {\n",
       "        vertical-align: top;\n",
       "    }\n",
       "\n",
       "    .dataframe thead th {\n",
       "        text-align: right;\n",
       "    }\n",
       "</style>\n",
       "<table border=\"1\" class=\"dataframe\">\n",
       "  <thead>\n",
       "    <tr style=\"text-align: right;\">\n",
       "      <th></th>\n",
       "      <th>codigo</th>\n",
       "      <th>grupo</th>\n",
       "      <th>delito</th>\n",
       "    </tr>\n",
       "  </thead>\n",
       "  <tbody>\n",
       "    <tr>\n",
       "      <th>0</th>\n",
       "      <td>01</td>\n",
       "      <td>a</td>\n",
       "      <td>Robo total de vehículo (automóvil, camioneta o...</td>\n",
       "    </tr>\n",
       "    <tr>\n",
       "      <th>1</th>\n",
       "      <td>02</td>\n",
       "      <td>a</td>\n",
       "      <td>Robo de accesorios, refacciones o herramientas...</td>\n",
       "    </tr>\n",
       "    <tr>\n",
       "      <th>2</th>\n",
       "      <td>03</td>\n",
       "      <td>a</td>\n",
       "      <td>Pinta de barda o grafiti en su casa, rayones o...</td>\n",
       "    </tr>\n",
       "    <tr>\n",
       "      <th>3</th>\n",
       "      <td>04</td>\n",
       "      <td>a</td>\n",
       "      <td>Alguien entró a su casa o departamento sin per...</td>\n",
       "    </tr>\n",
       "  </tbody>\n",
       "</table>\n",
       "</div>"
      ],
      "text/plain": [
       "  codigo grupo                                             delito\n",
       "0     01     a  Robo total de vehículo (automóvil, camioneta o...\n",
       "1     02     a  Robo de accesorios, refacciones o herramientas...\n",
       "2     03     a  Pinta de barda o grafiti en su casa, rayones o...\n",
       "3     04     a  Alguien entró a su casa o departamento sin per..."
      ]
     },
     "execution_count": 6,
     "metadata": {},
     "output_type": "execute_result"
    }
   ],
   "source": [
    "df1=df1.append({\"codigo\":\"04\",\"grupo\":\"a\",\n",
    "            \"delito\":\"Alguien entró a su casa o departamento sin permiso mediante el uso de la fuerza o por engaños y robó o intentó robar algo\"},\n",
    "          ignore_index=True)\n",
    "df1"
   ]
  },
  {
   "cell_type": "markdown",
   "metadata": {},
   "source": [
    "**AP6_4_04** \n",
    "- 6.4 Durante 2017, ¿algún integrante de este hogar incluido usted, sufrieron la situación (CÓDIGO DE LA INCIDENCIA) del grupo A?\n",
    "- Alguien entró a su casa o departamento sin permiso mediante el uso de la fuerza o por engaños y robó o intentó robar algo\n",
    "\n",
    "**AP6_6_04**\n",
    "- 6.6 ¿Cuántas veces sufrió usted o algún integrante del hogar (CÓDIGO DE LA INCIDENCIA) durante 2017?\n",
    "- Alguien entró a su casa o departamento sin permiso mediante el uso de la fuerza o por engaños y robó o intentó robar algo"
   ]
  },
  {
   "cell_type": "markdown",
   "metadata": {},
   "source": [
    "---\n",
    "**Nota** a partir de aqui la envipe se centra en preguntas sobre si alguien en el hogar ha sido secuestrado, desaparecido, fallecido etc,  creo que eso requiere una exploracion independiente a estos delitos que se estan desciorbiebdo aqui\n",
    "\n",
    "depues empieza la victimizacion personal o lo que ebtra en el grupo b"
   ]
  },
  {
   "cell_type": "markdown",
   "metadata": {},
   "source": [
    "---\n",
    "05 - grupo b - Robo o asalto en\n",
    "la calle o en el\n",
    "transporte público\n",
    "(incluye robo en\n",
    "banco o cajero\n",
    "automático)"
   ]
  },
  {
   "cell_type": "code",
   "execution_count": 7,
   "metadata": {},
   "outputs": [
    {
     "data": {
      "text/html": [
       "<div>\n",
       "<style scoped>\n",
       "    .dataframe tbody tr th:only-of-type {\n",
       "        vertical-align: middle;\n",
       "    }\n",
       "\n",
       "    .dataframe tbody tr th {\n",
       "        vertical-align: top;\n",
       "    }\n",
       "\n",
       "    .dataframe thead th {\n",
       "        text-align: right;\n",
       "    }\n",
       "</style>\n",
       "<table border=\"1\" class=\"dataframe\">\n",
       "  <thead>\n",
       "    <tr style=\"text-align: right;\">\n",
       "      <th></th>\n",
       "      <th>codigo</th>\n",
       "      <th>grupo</th>\n",
       "      <th>delito</th>\n",
       "    </tr>\n",
       "  </thead>\n",
       "  <tbody>\n",
       "    <tr>\n",
       "      <th>0</th>\n",
       "      <td>01</td>\n",
       "      <td>a</td>\n",
       "      <td>Robo total de vehículo (automóvil, camioneta o...</td>\n",
       "    </tr>\n",
       "    <tr>\n",
       "      <th>1</th>\n",
       "      <td>02</td>\n",
       "      <td>a</td>\n",
       "      <td>Robo de accesorios, refacciones o herramientas...</td>\n",
       "    </tr>\n",
       "    <tr>\n",
       "      <th>2</th>\n",
       "      <td>03</td>\n",
       "      <td>a</td>\n",
       "      <td>Pinta de barda o grafiti en su casa, rayones o...</td>\n",
       "    </tr>\n",
       "    <tr>\n",
       "      <th>3</th>\n",
       "      <td>04</td>\n",
       "      <td>a</td>\n",
       "      <td>Alguien entró a su casa o departamento sin per...</td>\n",
       "    </tr>\n",
       "    <tr>\n",
       "      <th>4</th>\n",
       "      <td>05</td>\n",
       "      <td>b</td>\n",
       "      <td>Robo o asalto en la calle o en el transporte p...</td>\n",
       "    </tr>\n",
       "  </tbody>\n",
       "</table>\n",
       "</div>"
      ],
      "text/plain": [
       "  codigo grupo                                             delito\n",
       "0     01     a  Robo total de vehículo (automóvil, camioneta o...\n",
       "1     02     a  Robo de accesorios, refacciones o herramientas...\n",
       "2     03     a  Pinta de barda o grafiti en su casa, rayones o...\n",
       "3     04     a  Alguien entró a su casa o departamento sin per...\n",
       "4     05     b  Robo o asalto en la calle o en el transporte p..."
      ]
     },
     "execution_count": 7,
     "metadata": {},
     "output_type": "execute_result"
    }
   ],
   "source": [
    "df1=df1.append({\"codigo\":\"05\",\"grupo\":\"b\",\n",
    "            \"delito\":\"Robo o asalto en la calle o en el transporte público (incluye robo en banco o cajero automático)\"},\n",
    "          ignore_index=True)\n",
    "df1"
   ]
  },
  {
   "cell_type": "markdown",
   "metadata": {},
   "source": [
    "**AP7_3_05** \n",
    "- 7.3 Durante 2017, ¿usted sufrió directamente la situación (CÓDIGO DE LA INCIDENCIA) del grupo B?\n",
    "- Robo o asalto en la calle o en el transporte público (incluye robo en banco o cajero automático)\n",
    "\n",
    "**AP7_4_05**\n",
    "- 7.4 ¿Me podría decir cuántas veces sufrió (CÓDIGO DE LA INCIDENCIA)?\n",
    "- Robo o asalto en la calle o en el transporte público (incluye robo en banco o cajero automático)"
   ]
  },
  {
   "cell_type": "markdown",
   "metadata": {},
   "source": [
    "---\n",
    "06 - grupo b - Robo en forma\n",
    "distinta a la\n",
    "anterior"
   ]
  },
  {
   "cell_type": "code",
   "execution_count": 8,
   "metadata": {},
   "outputs": [
    {
     "data": {
      "text/html": [
       "<div>\n",
       "<style scoped>\n",
       "    .dataframe tbody tr th:only-of-type {\n",
       "        vertical-align: middle;\n",
       "    }\n",
       "\n",
       "    .dataframe tbody tr th {\n",
       "        vertical-align: top;\n",
       "    }\n",
       "\n",
       "    .dataframe thead th {\n",
       "        text-align: right;\n",
       "    }\n",
       "</style>\n",
       "<table border=\"1\" class=\"dataframe\">\n",
       "  <thead>\n",
       "    <tr style=\"text-align: right;\">\n",
       "      <th></th>\n",
       "      <th>codigo</th>\n",
       "      <th>grupo</th>\n",
       "      <th>delito</th>\n",
       "    </tr>\n",
       "  </thead>\n",
       "  <tbody>\n",
       "    <tr>\n",
       "      <th>0</th>\n",
       "      <td>01</td>\n",
       "      <td>a</td>\n",
       "      <td>Robo total de vehículo (automóvil, camioneta o...</td>\n",
       "    </tr>\n",
       "    <tr>\n",
       "      <th>1</th>\n",
       "      <td>02</td>\n",
       "      <td>a</td>\n",
       "      <td>Robo de accesorios, refacciones o herramientas...</td>\n",
       "    </tr>\n",
       "    <tr>\n",
       "      <th>2</th>\n",
       "      <td>03</td>\n",
       "      <td>a</td>\n",
       "      <td>Pinta de barda o grafiti en su casa, rayones o...</td>\n",
       "    </tr>\n",
       "    <tr>\n",
       "      <th>3</th>\n",
       "      <td>04</td>\n",
       "      <td>a</td>\n",
       "      <td>Alguien entró a su casa o departamento sin per...</td>\n",
       "    </tr>\n",
       "    <tr>\n",
       "      <th>4</th>\n",
       "      <td>05</td>\n",
       "      <td>b</td>\n",
       "      <td>Robo o asalto en la calle o en el transporte p...</td>\n",
       "    </tr>\n",
       "    <tr>\n",
       "      <th>5</th>\n",
       "      <td>06</td>\n",
       "      <td>b</td>\n",
       "      <td>Robo en forma distinta a la anterior</td>\n",
       "    </tr>\n",
       "  </tbody>\n",
       "</table>\n",
       "</div>"
      ],
      "text/plain": [
       "  codigo grupo                                             delito\n",
       "0     01     a  Robo total de vehículo (automóvil, camioneta o...\n",
       "1     02     a  Robo de accesorios, refacciones o herramientas...\n",
       "2     03     a  Pinta de barda o grafiti en su casa, rayones o...\n",
       "3     04     a  Alguien entró a su casa o departamento sin per...\n",
       "4     05     b  Robo o asalto en la calle o en el transporte p...\n",
       "5     06     b               Robo en forma distinta a la anterior"
      ]
     },
     "execution_count": 8,
     "metadata": {},
     "output_type": "execute_result"
    }
   ],
   "source": [
    "df1=df1.append({\"codigo\":\"06\",\"grupo\":\"b\",\n",
    "            \"delito\":\"Robo en forma distinta a la anterior\"},\n",
    "          ignore_index=True)\n",
    "df1"
   ]
  },
  {
   "cell_type": "markdown",
   "metadata": {},
   "source": [
    "**AP7_3_06** \n",
    "- 7.3 Durante 2017, ¿usted sufrió directamente la situación (CÓDIGO DE LA INCIDENCIA) del grupo B?\n",
    "- Robo en forma distinta a la anterior\n",
    "\n",
    "**AP7_4_06**\n",
    "- 7.4 ¿Me podría decir cuántas veces sufrió (CÓDIGO DE LA INCIDENCIA)?\n",
    "- Robo en forma distinta a la anterior"
   ]
  },
  {
   "cell_type": "markdown",
   "metadata": {},
   "source": [
    "---\n",
    "07 - grupo b - Alguien usó su\n",
    "chequera, número\n",
    "de tarjeta o cuenta\n",
    "bancaria sin su\n",
    "permiso para\n",
    "realizar cargos o\n",
    "para extraer\n",
    "dinero de sus\n",
    "cuentas (fraude\n",
    "bancario) o le dio\n",
    "dinero falso"
   ]
  },
  {
   "cell_type": "code",
   "execution_count": 9,
   "metadata": {},
   "outputs": [
    {
     "data": {
      "text/html": [
       "<div>\n",
       "<style scoped>\n",
       "    .dataframe tbody tr th:only-of-type {\n",
       "        vertical-align: middle;\n",
       "    }\n",
       "\n",
       "    .dataframe tbody tr th {\n",
       "        vertical-align: top;\n",
       "    }\n",
       "\n",
       "    .dataframe thead th {\n",
       "        text-align: right;\n",
       "    }\n",
       "</style>\n",
       "<table border=\"1\" class=\"dataframe\">\n",
       "  <thead>\n",
       "    <tr style=\"text-align: right;\">\n",
       "      <th></th>\n",
       "      <th>codigo</th>\n",
       "      <th>grupo</th>\n",
       "      <th>delito</th>\n",
       "    </tr>\n",
       "  </thead>\n",
       "  <tbody>\n",
       "    <tr>\n",
       "      <th>0</th>\n",
       "      <td>01</td>\n",
       "      <td>a</td>\n",
       "      <td>Robo total de vehículo (automóvil, camioneta o...</td>\n",
       "    </tr>\n",
       "    <tr>\n",
       "      <th>1</th>\n",
       "      <td>02</td>\n",
       "      <td>a</td>\n",
       "      <td>Robo de accesorios, refacciones o herramientas...</td>\n",
       "    </tr>\n",
       "    <tr>\n",
       "      <th>2</th>\n",
       "      <td>03</td>\n",
       "      <td>a</td>\n",
       "      <td>Pinta de barda o grafiti en su casa, rayones o...</td>\n",
       "    </tr>\n",
       "    <tr>\n",
       "      <th>3</th>\n",
       "      <td>04</td>\n",
       "      <td>a</td>\n",
       "      <td>Alguien entró a su casa o departamento sin per...</td>\n",
       "    </tr>\n",
       "    <tr>\n",
       "      <th>4</th>\n",
       "      <td>05</td>\n",
       "      <td>b</td>\n",
       "      <td>Robo o asalto en la calle o en el transporte p...</td>\n",
       "    </tr>\n",
       "    <tr>\n",
       "      <th>5</th>\n",
       "      <td>06</td>\n",
       "      <td>b</td>\n",
       "      <td>Robo en forma distinta a la anterior</td>\n",
       "    </tr>\n",
       "    <tr>\n",
       "      <th>6</th>\n",
       "      <td>07</td>\n",
       "      <td>b</td>\n",
       "      <td>Alguien usó su chequera, número de tarjeta o c...</td>\n",
       "    </tr>\n",
       "  </tbody>\n",
       "</table>\n",
       "</div>"
      ],
      "text/plain": [
       "  codigo grupo                                             delito\n",
       "0     01     a  Robo total de vehículo (automóvil, camioneta o...\n",
       "1     02     a  Robo de accesorios, refacciones o herramientas...\n",
       "2     03     a  Pinta de barda o grafiti en su casa, rayones o...\n",
       "3     04     a  Alguien entró a su casa o departamento sin per...\n",
       "4     05     b  Robo o asalto en la calle o en el transporte p...\n",
       "5     06     b               Robo en forma distinta a la anterior\n",
       "6     07     b  Alguien usó su chequera, número de tarjeta o c..."
      ]
     },
     "execution_count": 9,
     "metadata": {},
     "output_type": "execute_result"
    }
   ],
   "source": [
    "df1=df1.append({\"codigo\":\"07\",\"grupo\":\"b\",\n",
    "            \"delito\":\"Alguien usó su chequera, número de tarjeta o cuenta bancaria sin su permiso para realizar cargos o para extraer dinero de sus cuentas (fraude bancario) o le dio dinero falso\"},\n",
    "          ignore_index=True)\n",
    "df1"
   ]
  },
  {
   "cell_type": "markdown",
   "metadata": {},
   "source": [
    "#### la secuencia es la misma hasta el codigo 15..\n",
    "tienen la misma estructura AP7_3_(codigo) para saber su exitencia y AP7_4_(codigo) para saber el numero de veces\n",
    "\n",
    "pertenecen al grupo b y los delitos faltantes son los siguientes :\n",
    "\n",
    "- Entregó dinero\n",
    "por un producto\n",
    "o un servicio\n",
    "que no recibió\n",
    "conforme a lo\n",
    "acordado (fraude\n",
    "al consumidor)\n",
    "- Amenazas,\n",
    "presiones o\n",
    "engaños para\n",
    "exigirle dinero o\n",
    "bienes; o para\n",
    "que hiciera algo o\n",
    "dejara de hacerlo\n",
    "(extorsión)\n",
    "- Amenazas\n",
    "verbales\n",
    "de alguien\n",
    "plenamente\n",
    "identificado o por\n",
    "escrito hacia su\n",
    "persona diciendo\n",
    "que le va a causar\n",
    "un daño a usted,\n",
    "a su familia, a\n",
    "sus bienes o su\n",
    "trabajo\n",
    "- Alguien sólo por\n",
    "actitud abusiva o\n",
    "por una discusión\n",
    "lo(a) golpeó\n",
    "generándole\n",
    "una lesión física\n",
    "(moretones,\n",
    "fracturas,\n",
    "cortadas, etc.)\n",
    "- Lo secuestraron\n",
    "para exigir dinero\n",
    "o bienes\n",
    "- Alguien en\n",
    "contra de su\n",
    "voluntad lo(a)\n",
    "agredió mediante\n",
    "hostigamiento\n",
    "sexual, manoseo,\n",
    "exhibicionismo o\n",
    "intento de violación\n",
    "- Fue obligado(a)\n",
    "mediante\n",
    "violencia física\n",
    "o amenaza por\n",
    "alguien conocido\n",
    "o desconocido\n",
    "a tener una\n",
    "actividad\n",
    "sexual no\n",
    "deseada (violación\n",
    "sexual)\n",
    "- Otros delitos\n",
    "distintos a los\n",
    "anteriores"
   ]
  },
  {
   "cell_type": "code",
   "execution_count": 10,
   "metadata": {},
   "outputs": [
    {
     "name": "stdout",
     "output_type": "stream",
     "text": [
      "Acompletalos\n"
     ]
    }
   ],
   "source": [
    "print(\"Acompletalos\")"
   ]
  },
  {
   "cell_type": "code",
   "execution_count": null,
   "metadata": {},
   "outputs": [],
   "source": [
    "df1=df1.append({\"codigo\":\"08\",\"grupo\":\"b\",\n",
    "            \"delito\":\"Entregó dinero por un producto o un servicio que no recibió conforme a lo acordado (fraude al consumidor)\"},\n",
    "          ignore_index=True)\n",
    "df1=df1.append({\"codigo\":\"09\",\"grupo\":\"b\",\n",
    "            \"delito\":\"Amenazas, presiones o engaños para exigirle dinero o bienes; o para que hiciera algo o dejara de hacerlo (extorsión)\"},\n",
    "          ignore_index=True)\n",
    "df1=df1.append({\"codigo\":\"10\",\"grupo\":\"b\",\n",
    "            \"delito\":\"Amenazas verbales de alguien plenamente identificado o por escrito hacia su persona diciendo que le va a causar un daño a usted, a su familia, a sus bienes o su trabajo\"},\n",
    "          ignore_index=True)\n",
    "df1=df1.append({\"codigo\":\"11\",\"grupo\":\"b\",\n",
    "            \"delito\":\"Alguien sólo por actitud abusiva o por una discusión lo(a) golpeó generándole una lesión física (moretones, fracturas, cortadas, etc.)\"},\n",
    "          ignore_index=True)\n",
    "\n"
   ]
  }
 ],
 "metadata": {
  "kernelspec": {
   "display_name": "Python 3",
   "language": "python",
   "name": "python3"
  },
  "language_info": {
   "codemirror_mode": {
    "name": "ipython",
    "version": 3
   },
   "file_extension": ".py",
   "mimetype": "text/x-python",
   "name": "python",
   "nbconvert_exporter": "python",
   "pygments_lexer": "ipython3",
   "version": "3.7.4"
  }
 },
 "nbformat": 4,
 "nbformat_minor": 4
}
